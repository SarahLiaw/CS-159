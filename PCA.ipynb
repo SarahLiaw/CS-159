{
  "nbformat": 4,
  "nbformat_minor": 0,
  "metadata": {
    "colab": {
      "provenance": []
    },
    "kernelspec": {
      "name": "python3",
      "display_name": "Python 3"
    },
    "language_info": {
      "name": "python"
    }
  },
  "cells": [
    {
      "cell_type": "code",
      "source": [
        "import pandas as pd\n",
        "import numpy as np\n",
        "import matplotlib.pyplot as plt\n",
        "import torch\n",
        "from sklearn.impute import SimpleImputer\n",
        "from sklearn.pipeline import make_pipeline\n",
        "from sklearn.preprocessing import QuantileTransformer\n",
        "from sklearn.preprocessing import PowerTransformer\n",
        "from sklearn.preprocessing import MinMaxScaler\n",
        "from sklearn.preprocessing import StandardScaler\n",
        "from sklearn.decomposition import PCA\n",
        "from sklearn.model_selection import train_test_split"
      ],
      "metadata": {
        "id": "hXuDd8cX4sgp"
      },
      "execution_count": null,
      "outputs": []
    },
    {
      "cell_type": "code",
      "source": [
        "!pip install gpytorch"
      ],
      "metadata": {
        "colab": {
          "base_uri": "https://localhost:8080/"
        },
        "id": "e5KuMnfRCcFj",
        "outputId": "6c77b917-7e0a-42f1-fe57-baf1ad1c4d2f"
      },
      "execution_count": null,
      "outputs": [
        {
          "output_type": "stream",
          "name": "stdout",
          "text": [
            "Looking in indexes: https://pypi.org/simple, https://us-python.pkg.dev/colab-wheels/public/simple/\n",
            "Requirement already satisfied: gpytorch in /usr/local/lib/python3.10/dist-packages (1.11)\n",
            "Requirement already satisfied: scikit-learn in /usr/local/lib/python3.10/dist-packages (from gpytorch) (1.2.2)\n",
            "Requirement already satisfied: linear-operator>=0.5.0 in /usr/local/lib/python3.10/dist-packages (from gpytorch) (0.5.0)\n",
            "Requirement already satisfied: torch>=1.11 in /usr/local/lib/python3.10/dist-packages (from linear-operator>=0.5.0->gpytorch) (2.0.1+cu118)\n",
            "Requirement already satisfied: scipy in /usr/local/lib/python3.10/dist-packages (from linear-operator>=0.5.0->gpytorch) (1.10.1)\n",
            "Requirement already satisfied: jaxtyping>=0.2.9 in /usr/local/lib/python3.10/dist-packages (from linear-operator>=0.5.0->gpytorch) (0.2.20)\n",
            "Requirement already satisfied: typeguard~=2.13.3 in /usr/local/lib/python3.10/dist-packages (from linear-operator>=0.5.0->gpytorch) (2.13.3)\n",
            "Requirement already satisfied: numpy>=1.17.3 in /usr/local/lib/python3.10/dist-packages (from scikit-learn->gpytorch) (1.22.4)\n",
            "Requirement already satisfied: joblib>=1.1.1 in /usr/local/lib/python3.10/dist-packages (from scikit-learn->gpytorch) (1.2.0)\n",
            "Requirement already satisfied: threadpoolctl>=2.0.0 in /usr/local/lib/python3.10/dist-packages (from scikit-learn->gpytorch) (3.1.0)\n",
            "Requirement already satisfied: typing-extensions>=3.7.4.1 in /usr/local/lib/python3.10/dist-packages (from jaxtyping>=0.2.9->linear-operator>=0.5.0->gpytorch) (4.5.0)\n",
            "Requirement already satisfied: filelock in /usr/local/lib/python3.10/dist-packages (from torch>=1.11->linear-operator>=0.5.0->gpytorch) (3.12.0)\n",
            "Requirement already satisfied: sympy in /usr/local/lib/python3.10/dist-packages (from torch>=1.11->linear-operator>=0.5.0->gpytorch) (1.11.1)\n",
            "Requirement already satisfied: networkx in /usr/local/lib/python3.10/dist-packages (from torch>=1.11->linear-operator>=0.5.0->gpytorch) (3.1)\n",
            "Requirement already satisfied: jinja2 in /usr/local/lib/python3.10/dist-packages (from torch>=1.11->linear-operator>=0.5.0->gpytorch) (3.1.2)\n",
            "Requirement already satisfied: triton==2.0.0 in /usr/local/lib/python3.10/dist-packages (from torch>=1.11->linear-operator>=0.5.0->gpytorch) (2.0.0)\n",
            "Requirement already satisfied: cmake in /usr/local/lib/python3.10/dist-packages (from triton==2.0.0->torch>=1.11->linear-operator>=0.5.0->gpytorch) (3.25.2)\n",
            "Requirement already satisfied: lit in /usr/local/lib/python3.10/dist-packages (from triton==2.0.0->torch>=1.11->linear-operator>=0.5.0->gpytorch) (16.0.5)\n",
            "Requirement already satisfied: MarkupSafe>=2.0 in /usr/local/lib/python3.10/dist-packages (from jinja2->torch>=1.11->linear-operator>=0.5.0->gpytorch) (2.1.2)\n",
            "Requirement already satisfied: mpmath>=0.19 in /usr/local/lib/python3.10/dist-packages (from sympy->torch>=1.11->linear-operator>=0.5.0->gpytorch) (1.3.0)\n"
          ]
        }
      ]
    },
    {
      "cell_type": "code",
      "execution_count": null,
      "metadata": {
        "colab": {
          "base_uri": "https://localhost:8080/",
          "height": 235
        },
        "id": "BYzSK7gTyviz",
        "outputId": "f20e3af3-85dd-4a93-9323-ef0509afc229"
      },
      "outputs": [
        {
          "output_type": "execute_result",
          "data": {
            "text/plain": [
              "     id  boneage  male    1         2         3         4         5         6  \\\n",
              "0  1377      180     0  0.0 -1.560237 -0.583802  0.780311  0.221399 -0.937382   \n",
              "1  1378       12     0  0.0  0.177853  0.203694  0.165015  0.103280  0.119956   \n",
              "2  1379       94     0  0.0  3.247461  5.522963  6.572581  3.883090  1.320475   \n",
              "3  1380      120     1  0.0  0.243920  0.697714  1.004606  0.096718 -1.043850   \n",
              "4  1381       82     0  0.0  0.088915  0.061847  0.052867  0.116404  0.175026   \n",
              "\n",
              "          7  ...      1015      1016      1017      1018      1019      1020  \\\n",
              "0 -0.987514  ...  0.563162  0.365317  0.235397  0.326632  0.315830 -0.005371   \n",
              "1  0.177927  ...  0.348038  0.233157  0.120522 -0.026721 -0.111723 -0.092013   \n",
              "2  0.286341  ...  0.353959  0.235969  0.128180 -0.231294 -1.127160 -1.925179   \n",
              "3 -1.276616  ...  0.205937 -0.059281 -0.361955 -0.626492  0.004882  1.303382   \n",
              "4  0.205031  ...  0.375668  0.269712  0.147326  0.005824 -0.014552  0.003749   \n",
              "\n",
              "       1021      1022      1023  1024  \n",
              "0 -0.200495 -0.132342 -0.058859   0.0  \n",
              "1 -0.134275 -0.229009 -0.249066   0.0  \n",
              "2 -1.727442 -0.920785 -0.455393   0.0  \n",
              "3  1.236861 -0.077966 -0.751987   0.0  \n",
              "4 -0.079741 -0.162550 -0.174917   0.0  \n",
              "\n",
              "[5 rows x 1027 columns]"
            ],
            "text/html": [
              "\n",
              "  <div id=\"df-b049db05-b46d-4587-bf73-1dbdad32d9c1\">\n",
              "    <div class=\"colab-df-container\">\n",
              "      <div>\n",
              "<style scoped>\n",
              "    .dataframe tbody tr th:only-of-type {\n",
              "        vertical-align: middle;\n",
              "    }\n",
              "\n",
              "    .dataframe tbody tr th {\n",
              "        vertical-align: top;\n",
              "    }\n",
              "\n",
              "    .dataframe thead th {\n",
              "        text-align: right;\n",
              "    }\n",
              "</style>\n",
              "<table border=\"1\" class=\"dataframe\">\n",
              "  <thead>\n",
              "    <tr style=\"text-align: right;\">\n",
              "      <th></th>\n",
              "      <th>id</th>\n",
              "      <th>boneage</th>\n",
              "      <th>male</th>\n",
              "      <th>1</th>\n",
              "      <th>2</th>\n",
              "      <th>3</th>\n",
              "      <th>4</th>\n",
              "      <th>5</th>\n",
              "      <th>6</th>\n",
              "      <th>7</th>\n",
              "      <th>...</th>\n",
              "      <th>1015</th>\n",
              "      <th>1016</th>\n",
              "      <th>1017</th>\n",
              "      <th>1018</th>\n",
              "      <th>1019</th>\n",
              "      <th>1020</th>\n",
              "      <th>1021</th>\n",
              "      <th>1022</th>\n",
              "      <th>1023</th>\n",
              "      <th>1024</th>\n",
              "    </tr>\n",
              "  </thead>\n",
              "  <tbody>\n",
              "    <tr>\n",
              "      <th>0</th>\n",
              "      <td>1377</td>\n",
              "      <td>180</td>\n",
              "      <td>0</td>\n",
              "      <td>0.0</td>\n",
              "      <td>-1.560237</td>\n",
              "      <td>-0.583802</td>\n",
              "      <td>0.780311</td>\n",
              "      <td>0.221399</td>\n",
              "      <td>-0.937382</td>\n",
              "      <td>-0.987514</td>\n",
              "      <td>...</td>\n",
              "      <td>0.563162</td>\n",
              "      <td>0.365317</td>\n",
              "      <td>0.235397</td>\n",
              "      <td>0.326632</td>\n",
              "      <td>0.315830</td>\n",
              "      <td>-0.005371</td>\n",
              "      <td>-0.200495</td>\n",
              "      <td>-0.132342</td>\n",
              "      <td>-0.058859</td>\n",
              "      <td>0.0</td>\n",
              "    </tr>\n",
              "    <tr>\n",
              "      <th>1</th>\n",
              "      <td>1378</td>\n",
              "      <td>12</td>\n",
              "      <td>0</td>\n",
              "      <td>0.0</td>\n",
              "      <td>0.177853</td>\n",
              "      <td>0.203694</td>\n",
              "      <td>0.165015</td>\n",
              "      <td>0.103280</td>\n",
              "      <td>0.119956</td>\n",
              "      <td>0.177927</td>\n",
              "      <td>...</td>\n",
              "      <td>0.348038</td>\n",
              "      <td>0.233157</td>\n",
              "      <td>0.120522</td>\n",
              "      <td>-0.026721</td>\n",
              "      <td>-0.111723</td>\n",
              "      <td>-0.092013</td>\n",
              "      <td>-0.134275</td>\n",
              "      <td>-0.229009</td>\n",
              "      <td>-0.249066</td>\n",
              "      <td>0.0</td>\n",
              "    </tr>\n",
              "    <tr>\n",
              "      <th>2</th>\n",
              "      <td>1379</td>\n",
              "      <td>94</td>\n",
              "      <td>0</td>\n",
              "      <td>0.0</td>\n",
              "      <td>3.247461</td>\n",
              "      <td>5.522963</td>\n",
              "      <td>6.572581</td>\n",
              "      <td>3.883090</td>\n",
              "      <td>1.320475</td>\n",
              "      <td>0.286341</td>\n",
              "      <td>...</td>\n",
              "      <td>0.353959</td>\n",
              "      <td>0.235969</td>\n",
              "      <td>0.128180</td>\n",
              "      <td>-0.231294</td>\n",
              "      <td>-1.127160</td>\n",
              "      <td>-1.925179</td>\n",
              "      <td>-1.727442</td>\n",
              "      <td>-0.920785</td>\n",
              "      <td>-0.455393</td>\n",
              "      <td>0.0</td>\n",
              "    </tr>\n",
              "    <tr>\n",
              "      <th>3</th>\n",
              "      <td>1380</td>\n",
              "      <td>120</td>\n",
              "      <td>1</td>\n",
              "      <td>0.0</td>\n",
              "      <td>0.243920</td>\n",
              "      <td>0.697714</td>\n",
              "      <td>1.004606</td>\n",
              "      <td>0.096718</td>\n",
              "      <td>-1.043850</td>\n",
              "      <td>-1.276616</td>\n",
              "      <td>...</td>\n",
              "      <td>0.205937</td>\n",
              "      <td>-0.059281</td>\n",
              "      <td>-0.361955</td>\n",
              "      <td>-0.626492</td>\n",
              "      <td>0.004882</td>\n",
              "      <td>1.303382</td>\n",
              "      <td>1.236861</td>\n",
              "      <td>-0.077966</td>\n",
              "      <td>-0.751987</td>\n",
              "      <td>0.0</td>\n",
              "    </tr>\n",
              "    <tr>\n",
              "      <th>4</th>\n",
              "      <td>1381</td>\n",
              "      <td>82</td>\n",
              "      <td>0</td>\n",
              "      <td>0.0</td>\n",
              "      <td>0.088915</td>\n",
              "      <td>0.061847</td>\n",
              "      <td>0.052867</td>\n",
              "      <td>0.116404</td>\n",
              "      <td>0.175026</td>\n",
              "      <td>0.205031</td>\n",
              "      <td>...</td>\n",
              "      <td>0.375668</td>\n",
              "      <td>0.269712</td>\n",
              "      <td>0.147326</td>\n",
              "      <td>0.005824</td>\n",
              "      <td>-0.014552</td>\n",
              "      <td>0.003749</td>\n",
              "      <td>-0.079741</td>\n",
              "      <td>-0.162550</td>\n",
              "      <td>-0.174917</td>\n",
              "      <td>0.0</td>\n",
              "    </tr>\n",
              "  </tbody>\n",
              "</table>\n",
              "<p>5 rows × 1027 columns</p>\n",
              "</div>\n",
              "      <button class=\"colab-df-convert\" onclick=\"convertToInteractive('df-b049db05-b46d-4587-bf73-1dbdad32d9c1')\"\n",
              "              title=\"Convert this dataframe to an interactive table.\"\n",
              "              style=\"display:none;\">\n",
              "        \n",
              "  <svg xmlns=\"http://www.w3.org/2000/svg\" height=\"24px\"viewBox=\"0 0 24 24\"\n",
              "       width=\"24px\">\n",
              "    <path d=\"M0 0h24v24H0V0z\" fill=\"none\"/>\n",
              "    <path d=\"M18.56 5.44l.94 2.06.94-2.06 2.06-.94-2.06-.94-.94-2.06-.94 2.06-2.06.94zm-11 1L8.5 8.5l.94-2.06 2.06-.94-2.06-.94L8.5 2.5l-.94 2.06-2.06.94zm10 10l.94 2.06.94-2.06 2.06-.94-2.06-.94-.94-2.06-.94 2.06-2.06.94z\"/><path d=\"M17.41 7.96l-1.37-1.37c-.4-.4-.92-.59-1.43-.59-.52 0-1.04.2-1.43.59L10.3 9.45l-7.72 7.72c-.78.78-.78 2.05 0 2.83L4 21.41c.39.39.9.59 1.41.59.51 0 1.02-.2 1.41-.59l7.78-7.78 2.81-2.81c.8-.78.8-2.07 0-2.86zM5.41 20L4 18.59l7.72-7.72 1.47 1.35L5.41 20z\"/>\n",
              "  </svg>\n",
              "      </button>\n",
              "      \n",
              "  <style>\n",
              "    .colab-df-container {\n",
              "      display:flex;\n",
              "      flex-wrap:wrap;\n",
              "      gap: 12px;\n",
              "    }\n",
              "\n",
              "    .colab-df-convert {\n",
              "      background-color: #E8F0FE;\n",
              "      border: none;\n",
              "      border-radius: 50%;\n",
              "      cursor: pointer;\n",
              "      display: none;\n",
              "      fill: #1967D2;\n",
              "      height: 32px;\n",
              "      padding: 0 0 0 0;\n",
              "      width: 32px;\n",
              "    }\n",
              "\n",
              "    .colab-df-convert:hover {\n",
              "      background-color: #E2EBFA;\n",
              "      box-shadow: 0px 1px 2px rgba(60, 64, 67, 0.3), 0px 1px 3px 1px rgba(60, 64, 67, 0.15);\n",
              "      fill: #174EA6;\n",
              "    }\n",
              "\n",
              "    [theme=dark] .colab-df-convert {\n",
              "      background-color: #3B4455;\n",
              "      fill: #D2E3FC;\n",
              "    }\n",
              "\n",
              "    [theme=dark] .colab-df-convert:hover {\n",
              "      background-color: #434B5C;\n",
              "      box-shadow: 0px 1px 3px 1px rgba(0, 0, 0, 0.15);\n",
              "      filter: drop-shadow(0px 1px 2px rgba(0, 0, 0, 0.3));\n",
              "      fill: #FFFFFF;\n",
              "    }\n",
              "  </style>\n",
              "\n",
              "      <script>\n",
              "        const buttonEl =\n",
              "          document.querySelector('#df-b049db05-b46d-4587-bf73-1dbdad32d9c1 button.colab-df-convert');\n",
              "        buttonEl.style.display =\n",
              "          google.colab.kernel.accessAllowed ? 'block' : 'none';\n",
              "\n",
              "        async function convertToInteractive(key) {\n",
              "          const element = document.querySelector('#df-b049db05-b46d-4587-bf73-1dbdad32d9c1');\n",
              "          const dataTable =\n",
              "            await google.colab.kernel.invokeFunction('convertToInteractive',\n",
              "                                                     [key], {});\n",
              "          if (!dataTable) return;\n",
              "\n",
              "          const docLinkHtml = 'Like what you see? Visit the ' +\n",
              "            '<a target=\"_blank\" href=https://colab.research.google.com/notebooks/data_table.ipynb>data table notebook</a>'\n",
              "            + ' to learn more about interactive tables.';\n",
              "          element.innerHTML = '';\n",
              "          dataTable['output_type'] = 'display_data';\n",
              "          await google.colab.output.renderOutput(dataTable, element);\n",
              "          const docLink = document.createElement('div');\n",
              "          docLink.innerHTML = docLinkHtml;\n",
              "          element.appendChild(docLink);\n",
              "        }\n",
              "      </script>\n",
              "    </div>\n",
              "  </div>\n",
              "  "
            ]
          },
          "metadata": {},
          "execution_count": 35
        }
      ],
      "source": [
        "boneage = pd.read_csv(\"scaled_boneage.csv\", index_col = 0)\n",
        "boneage.head()"
      ]
    },
    {
      "cell_type": "code",
      "source": [
        "boneage.shape"
      ],
      "metadata": {
        "colab": {
          "base_uri": "https://localhost:8080/"
        },
        "id": "ge1EPQ-Cy-S4",
        "outputId": "b1a85409-28aa-419d-fa29-0a09be6aec73"
      },
      "execution_count": null,
      "outputs": [
        {
          "output_type": "execute_result",
          "data": {
            "text/plain": [
              "(12611, 1027)"
            ]
          },
          "metadata": {},
          "execution_count": 36
        }
      ]
    },
    {
      "cell_type": "code",
      "source": [
        "X, y = boneage.drop([\"boneage\", \"id\", \"male\"], axis=1), boneage[[\"boneage\"]].values.flatten()\n",
        "print(np.unique(y))\n",
        "X_train, X_test, y_train, y_test = train_test_split(X, y, test_size=0.33, random_state=42)"
      ],
      "metadata": {
        "id": "63RYBiCQzU1j",
        "colab": {
          "base_uri": "https://localhost:8080/"
        },
        "outputId": "30b83c00-f6b9-4e46-d204-461bd12ef79b"
      },
      "execution_count": null,
      "outputs": [
        {
          "output_type": "stream",
          "name": "stdout",
          "text": [
            "[  1   4   6   9  10  12  13  14  15  16  17  18  20  21  24  27  28  29\n",
            "  30  32  33  34  36  37  38  39  40  42  43  45  46  48  49  50  51  52\n",
            "  54  55  56  57  58  60  62  63  64  65  66  67  69  70  72  74  75  76\n",
            "  77  78  80  81  82  84  86  87  88  90  91  93  94  96 100 101 102 103\n",
            " 104 105 106 107 108 109 110 111 112 113 114 115 116 117 118 120 121 123\n",
            " 124 125 126 128 129 130 132 133 134 135 136 137 138 139 140 141 142 143\n",
            " 144 146 147 148 149 150 151 152 153 154 156 158 159 160 161 162 163 164\n",
            " 165 166 167 168 169 170 171 172 173 174 176 177 179 180 182 183 184 186\n",
            " 188 189 192 194 196 197 198 200 204 206 210 212 214 216 222 228]\n"
          ]
        }
      ]
    },
    {
      "cell_type": "code",
      "source": [
        "print(X_train.shape)"
      ],
      "metadata": {
        "colab": {
          "base_uri": "https://localhost:8080/"
        },
        "id": "8qjzoTjrUwiC",
        "outputId": "1812a969-ec54-490b-f31b-a383faeb83a2"
      },
      "execution_count": null,
      "outputs": [
        {
          "output_type": "stream",
          "name": "stdout",
          "text": [
            "(2871, 1024)\n"
          ]
        }
      ]
    },
    {
      "cell_type": "code",
      "source": [
        "# # Encode the target to numeric\n",
        "# y_encoded = pd.factorize(y)[0]\n",
        "# print(y_encoded)"
      ],
      "metadata": {
        "id": "A_RsNALQ2kd6"
      },
      "execution_count": null,
      "outputs": []
    },
    {
      "cell_type": "code",
      "source": [
        "%matplotlib inline\n",
        "# pca = PCA(n_components = 0.90) # Original approach, reduced from 1024 dimensions to 74 \n",
        "pca = PCA(n_components = 0.50)\n",
        "pca.fit(X_train)\n",
        "reduced_train = pca.transform(X_train)\n",
        "print('Original Dimensions: ', X_train.shape)  \n",
        "print('Reduced Dimensions: ', reduced_train.shape) "
      ],
      "metadata": {
        "colab": {
          "base_uri": "https://localhost:8080/"
        },
        "id": "bOYBjh_n3aPu",
        "outputId": "b8320940-2c3d-4cd3-898a-d7ad6739e8a9"
      },
      "execution_count": null,
      "outputs": [
        {
          "output_type": "stream",
          "name": "stdout",
          "text": [
            "Original Dimensions:  (8449, 1024)\n",
            "Reduced Dimensions:  (8449, 11)\n"
          ]
        }
      ]
    },
    {
      "cell_type": "code",
      "source": [
        "print(pca.explained_variance_)\n",
        "\n",
        "print(pca.explained_variance_ratio_)"
      ],
      "metadata": {
        "colab": {
          "base_uri": "https://localhost:8080/"
        },
        "id": "ZXBLS3YS30dP",
        "outputId": "1fbe5622-1d4b-4a97-ebc5-9e6adfd6cafe"
      },
      "execution_count": null,
      "outputs": [
        {
          "output_type": "stream",
          "name": "stdout",
          "text": [
            "[108.6480446   93.70664398  67.62152595  55.84774233  43.8844319\n",
            "  34.0886303   31.68650236  27.10793099  24.05824172  20.99237891\n",
            "  19.05853611]\n",
            "[0.10552376 0.09101201 0.065677   0.05424178 0.04262249 0.03310838\n",
            " 0.03077532 0.02632841 0.02336642 0.02038872 0.01851049]\n"
          ]
        }
      ]
    },
    {
      "cell_type": "code",
      "source": [
        "import seaborn as sn\n",
        "PC_strings = [str(i) for i in range(reduced_train.shape[1])]\n",
        "dfScree = pd.DataFrame({'var':pca.explained_variance_ratio_,'PC':PC_strings})\n",
        "sn.barplot(x='PC',y=\"var\",data=dfScree, color=\"c\").set_title('Fig 2. Component Variance');"
      ],
      "metadata": {
        "colab": {
          "base_uri": "https://localhost:8080/",
          "height": 472
        },
        "id": "WfumGUev3_TW",
        "outputId": "20db7baf-bfad-4e66-ed51-ac6f219e0341"
      },
      "execution_count": null,
      "outputs": [
        {
          "output_type": "display_data",
          "data": {
            "text/plain": [
              "<Figure size 640x480 with 1 Axes>"
            ],
            "image/png": "[encoded data removed]"
          },
          "metadata": {}
        }
      ]
    },
    {
      "cell_type": "code",
      "source": [
        "# df_pc = pd.DataFrame(data = reduced, columns = [str(i) for i in range(reduced.shape[1])])\n",
        "\n",
        "# df_col = pd.concat([df_pc, boneage.drop([\"boneage\", \"id\", \"male\"], axis=1) ], axis=1)\n",
        "# df_col\n",
        "# covMatrix = pd.DataFrame.cov(df_col)\n",
        "# sn.set(rc={'figure.figsize':(14,6)})\n",
        "# sn.heatmap(covMatrix, annot=True, fmt='g')\n",
        "# plt.figure(figsize=(28,18))\n",
        "# plt.show()"
      ],
      "metadata": {
        "id": "0tZfu-Kc9lXQ"
      },
      "execution_count": null,
      "outputs": []
    },
    {
      "cell_type": "code",
      "source": [
        "import gpytorch\n",
        "\n",
        "# Create a GP model\n",
        "class GPModel(gpytorch.models.ExactGP):\n",
        "    def __init__(self, train_x, train_y, likelihood):\n",
        "        super(GPModel, self).__init__(train_x, train_y, likelihood)\n",
        "        self.mean_module = gpytorch.means.ConstantMean()\n",
        "        self.covar_module = gpytorch.kernels.ScaleKernel(gpytorch.kernels.RBFKernel())\n",
        "\n",
        "    def forward(self, x):\n",
        "        mean_x = self.mean_module(x)\n",
        "        covar_x = self.covar_module(x)\n",
        "        return gpytorch.distributions.MultivariateNormal(mean_x, covar_x)"
      ],
      "metadata": {
        "id": "f2DcwzkU-Jr7"
      },
      "execution_count": null,
      "outputs": []
    },
    {
      "cell_type": "code",
      "source": [
        "reduced_test = pca.transform(X_test)"
      ],
      "metadata": {
        "id": "_vHy8WTMa_3a"
      },
      "execution_count": null,
      "outputs": []
    },
    {
      "cell_type": "code",
      "source": [
        "reduced_train = torch.tensor(reduced_train, dtype=torch.double)\n",
        "y_train = torch.tensor(y_train, dtype=torch.double)\n",
        "reduced_test = torch.tensor(reduced_test, dtype=torch.double)\n",
        "y_test = torch.tensor(y_test, dtype=torch.double)"
      ],
      "metadata": {
        "id": "UaWu63gJDaO2"
      },
      "execution_count": null,
      "outputs": []
    },
    {
      "cell_type": "code",
      "source": [
        "# Create a Gaussian Process model\n",
        "likelihood = gpytorch.likelihoods.GaussianLikelihood()\n",
        "model = GPModel(reduced_train, y_train, likelihood)"
      ],
      "metadata": {
        "id": "aCapfeC-CMYY"
      },
      "execution_count": null,
      "outputs": []
    },
    {
      "cell_type": "code",
      "source": [
        "# Train the model\n",
        "model.train()\n",
        "likelihood.train()\n",
        "optimizer = torch.optim.Adam(model.parameters(), lr=0.1)\n",
        "mll = gpytorch.mlls.ExactMarginalLogLikelihood(likelihood, model)\n",
        "for i in range(100):\n",
        "    optimizer.zero_grad()\n",
        "    output = model(reduced_train)\n",
        "    loss = -mll(output, y_train)\n",
        "    loss.backward()\n",
        "    optimizer.step()"
      ],
      "metadata": {
        "id": "y5o_gnofCvGK"
      },
      "execution_count": null,
      "outputs": []
    },
    {
      "cell_type": "code",
      "source": [
        "print(torch.tensor(reduced_test))\n",
        "reduced_test.dtype"
      ],
      "metadata": {
        "colab": {
          "base_uri": "https://localhost:8080/"
        },
        "id": "LXce9tARQzsj",
        "outputId": "eb34d2ac-53ef-4d98-d039-bc0f458dd127"
      },
      "execution_count": null,
      "outputs": [
        {
          "output_type": "stream",
          "name": "stdout",
          "text": [
            "tensor([[  9.3223,  -1.5085,  -7.3323,  ...,   2.5471,   2.1829,  -1.8144],\n",
            "        [  6.9543,   4.5051,  -2.4777,  ...,  -0.0232,  -4.4317,   3.4532],\n",
            "        [-10.4033,   4.8028,  -6.4280,  ...,   0.5200,  -1.4755,  -1.0286],\n",
            "        ...,\n",
            "        [  1.6536,  -0.8808,   0.0872,  ...,  -0.6945,  -0.9649,   0.3620],\n",
            "        [ -0.6805,  11.9796,  -4.8337,  ...,   5.8485,   7.3066,  -2.3775],\n",
            "        [-19.2090,  -3.5622,   5.8461,  ...,  -1.2462,   3.0992,  -2.6841]],\n",
            "       dtype=torch.float64)\n"
          ]
        },
        {
          "output_type": "stream",
          "name": "stderr",
          "text": [
            "<ipython-input-51-9010c64daab6>:1: UserWarning: To copy construct from a tensor, it is recommended to use sourceTensor.clone().detach() or sourceTensor.clone().detach().requires_grad_(True), rather than torch.tensor(sourceTensor).\n",
            "  print(torch.tensor(reduced_test))\n"
          ]
        },
        {
          "output_type": "execute_result",
          "data": {
            "text/plain": [
              "torch.float64"
            ]
          },
          "metadata": {},
          "execution_count": 51
        }
      ]
    },
    {
      "cell_type": "code",
      "source": [
        "# Make predictions with uncertainty\n",
        "model.eval()\n",
        "likelihood.eval()\n",
        "squared_errors = []\n",
        "with torch.no_grad():\n",
        "    output = model(reduced_test)\n",
        "    prediction_mean = output.mean\n",
        "    prediction_covar = output.covariance_matrix"
      ],
      "metadata": {
        "id": "aFF3CbnfEwHw"
      },
      "execution_count": null,
      "outputs": []
    },
    {
      "cell_type": "code",
      "source": [
        "# Calculate mean squared error (MSE)\n",
        "mse = torch.mean((prediction_mean - y_test) ** 2)\n",
        "print(\"Mean Squared Error (MSE):\", mse.item())"
      ],
      "metadata": {
        "colab": {
          "base_uri": "https://localhost:8080/"
        },
        "id": "CnsheUiuKJxO",
        "outputId": "92126167-faa4-4fee-bebe-13b7981259a3"
      },
      "execution_count": null,
      "outputs": [
        {
          "output_type": "stream",
          "name": "stdout",
          "text": [
            "Mean Squared Error (MSE): 2314.342965762778\n"
          ]
        }
      ]
    },
    {
      "cell_type": "code",
      "source": [
        "# Define the tolerance range\n",
        "tolerance = 10.0  # Adjust this value according to your desired range\n",
        "\n",
        "# Check if each predicted value is within the tolerance range of the corresponding true value\n",
        "within_range = torch.abs(prediction_mean - y_test) <= tolerance\n",
        "\n",
        "error = 0\n",
        "for i, value in enumerate(prediction_mean):\n",
        "    # print(prediction_mean[i], y_test[i])\n",
        "    if not within_range[i]:\n",
        "      error += 1\n",
        "# print(\"Total incorrect is\", error, \"resulting in an error percentage of\", error/prediction_mean.size(0))\n",
        "total = prediction_mean.size(0)\n",
        "correct = total - error\n",
        "\n",
        "k_quantile_value = np.percentile(mse.numpy(), 20)\n",
        "rmse = np.sqrt(k_quantile_value)\n",
        "accuracy = 100 * correct / total\n",
        "print('RMSE ({}-quantile): {}'.format(20, rmse))\n",
        "print('Test accuracy within +/- 10: {}/{} ({}%)'.format(correct, total, accuracy))"
      ],
      "metadata": {
        "colab": {
          "base_uri": "https://localhost:8080/"
        },
        "id": "PccFGhQDPaCh",
        "outputId": "b48de2e4-8cf6-4c64-ed83-a4ef72d49c04"
      },
      "execution_count": null,
      "outputs": [
        {
          "output_type": "stream",
          "name": "stdout",
          "text": [
            "RMSE (20-quantile): 48.107618583367625\n",
            "Test accuracy within +/- 10: 747/4162 (17.94810187409899%)\n"
          ]
        }
      ]
    },
    {
      "cell_type": "code",
      "source": [],
      "metadata": {
        "id": "rgQdiMfa7vYa"
      },
      "execution_count": null,
      "outputs": []
    }
  ]
}